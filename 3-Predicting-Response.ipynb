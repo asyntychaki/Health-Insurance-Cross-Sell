{
 "cells": [
  {
   "cell_type": "code",
   "execution_count": null,
   "metadata": {},
   "outputs": [],
   "source": [
    "import numpy as np\n",
    "import pandas as pd\n",
    "import matplotlib.pyplot as plt\n",
    "from sklearn.linear_model import LinearRegression\n",
    "from sklearn.model_selection import train_test_split\n",
    "from sklearn.metrics import r2_score, mean_squared_error, roc_auc_score\n",
    "\n",
    "%matplotlib inline"
   ]
  },
  {
   "cell_type": "code",
   "execution_count": null,
   "metadata": {},
   "outputs": [],
   "source": [
    "df = pd.read_csv('data/train.csv')\n",
    "df_test = pd.read_csv('data/test.csv')\n",
    "df.head()"
   ]
  },
  {
   "cell_type": "code",
   "execution_count": null,
   "metadata": {},
   "outputs": [],
   "source": [
    "# See if there are any NaNs\n",
    "df.isnull().sum()"
   ]
  },
  {
   "cell_type": "code",
   "execution_count": null,
   "metadata": {},
   "outputs": [],
   "source": [
    "def create_dummy(df, cat_cols, dummy_na):\n",
    "    '''\n",
    "    INPUT:\n",
    "    df - pandas dataframe with categorical variables to dummy\n",
    "    cat_cols - list of strings associated with the names of the categorical columns\n",
    "    dummy_na - Bool holding whether you want to dummy NA vals of categorical columns or not\n",
    "    \n",
    "    OUTPUT:\n",
    "    df - a new dataframe that has the following characteristics:\n",
    "            1. contains all columns that were not specified as categorical\n",
    "            2. dummy columns for each of the categorical columns in cat_cols\n",
    "            3. if dummy_na is True - it also contains dummy columns for the NaN values\n",
    "            4. Use a prefix of the column name with an underscore (_) for separating \n",
    "    '''\n",
    "    \n",
    "    df = pd.concat([df.select_dtypes(exclude='object'), pd.get_dummies(df[cat_cols], prefix_sep='_', drop_first=False, dummy_na=dummy_na)], axis=1)\n",
    "    return df"
   ]
  },
  {
   "cell_type": "markdown",
   "metadata": {},
   "source": [
    "# Data preprocessing"
   ]
  },
  {
   "cell_type": "code",
   "execution_count": null,
   "metadata": {},
   "outputs": [],
   "source": [
    "# 1. Remove rows with NaNs in the Response column (here there aren't any NaNs)\n",
    "df = df.dropna(subset=['Response'], axis=0)"
   ]
  },
  {
   "cell_type": "code",
   "execution_count": null,
   "metadata": {},
   "outputs": [],
   "source": [
    "# 2.  \n",
    "\n",
    "# Create X with only feature columns\n",
    "X = df.drop(['Response','id'], axis=1)\n",
    "# Create y with Response column\n",
    "y = df['Response'] \n",
    "# Drop 'id' column also from df_test\n",
    "df_test = df_test.drop(['id'], axis=1)"
   ]
  },
  {
   "cell_type": "markdown",
   "metadata": {},
   "source": [
    "### Categorical values - method 1:\n",
    "#### (This is <u>not</u> the chosen preprocessing method in the analysis)\n",
    "\n",
    "One way of dealing with categorical values would be to create dummy columns only for the variables with initial dtype=object (here 'Gender', 'Vehicle_Age', 'Vehicle_Damage'). Then we can fill any NaNs in the remaining numerical and categorical variables using mode() (the mean wouldn't make sense in the case of the categorical variables)."
   ]
  },
  {
   "cell_type": "code",
   "execution_count": null,
   "metadata": {},
   "outputs": [],
   "source": [
    "# 3-1. Select categorical variables \n",
    "\n",
    "#cat_vars1 = X.select_dtypes(include=['object']).columns"
   ]
  },
  {
   "cell_type": "code",
   "execution_count": null,
   "metadata": {},
   "outputs": [],
   "source": [
    "# 4-1. Create dummy columns\n",
    "\n",
    "#X = create_dummy(X, cat_vars1, dummy_na=True)\n",
    "#df_test = create_dummy(df_test, cat_vars1, dummy_na=True) "
   ]
  },
  {
   "cell_type": "code",
   "execution_count": null,
   "metadata": {},
   "outputs": [],
   "source": [
    "# 5-1. Fill any numerical/categorical NaNs with mode()\n",
    "\n",
    "#fill_mean = lambda col: col.fillna(col.mode())\n",
    "#X = X.apply(fill_mean, axis=0)\n",
    "#df_test = df_test.apply(fill_mean, axis=0)"
   ]
  },
  {
   "cell_type": "markdown",
   "metadata": {},
   "source": [
    "### Categorical values - method 2:\n",
    "#### (This is the chosen preprocessing method in the analysis)\n",
    "\n",
    "Another way of dealing with all categorical values would be to convert all of them to dtype=object and create dummy columns for all categorical variables. Then we can fill any NaNs in the remaining numerical variables using mean().\n",
    "\n"
   ]
  },
  {
   "cell_type": "code",
   "execution_count": null,
   "metadata": {},
   "outputs": [],
   "source": [
    "# 3-2. Convert all categorical variables to dtype=object \n",
    "\n",
    "X = X.astype({'Driving_License': object, 'Region_Code': object, 'Previously_Insured': object, 'Policy_Sales_Channel': object})\n",
    "df_test = df_test.astype({'Driving_License': object, 'Region_Code': object, 'Previously_Insured': object, 'Policy_Sales_Channel': object})\n",
    "\n",
    "cat_vars2 = X.select_dtypes(include=['object']).columns"
   ]
  },
  {
   "cell_type": "code",
   "execution_count": null,
   "metadata": {},
   "outputs": [],
   "source": [
    "# 4-2. Create dummy columns\n",
    "\n",
    "X = create_dummy(X, cat_vars2, dummy_na=True)\n",
    "df_test = create_dummy(df_test, cat_vars2, dummy_na=True) \n",
    "\n",
    "# Check if there are differences in the dummy column names of the two dataframes.\n",
    "# If a dataframe misses a dummy column, then add it and fill it with zeros.\n",
    "for col in set(X.columns).symmetric_difference(set(df_test.columns)): \n",
    "    if col in X.columns:\n",
    "        df_test[col]=0\n",
    "    else:\n",
    "        X[col]=0"
   ]
  },
  {
   "cell_type": "code",
   "execution_count": null,
   "metadata": {},
   "outputs": [],
   "source": [
    "# 5-2. Fill any numerical NaNs with mean()\n",
    "\n",
    "fill_mean = lambda col: col.fillna(col.mean())\n",
    "X = X.apply(fill_mean, axis=0)\n",
    "df_test = df_test.apply(fill_mean, axis=0)"
   ]
  },
  {
   "cell_type": "code",
   "execution_count": null,
   "metadata": {},
   "outputs": [],
   "source": [
    "# 6. Split into train/validation/test\n",
    "X_train, X_val, y_train, y_val = train_test_split(X, y, test_size=.20, random_state=42)\n",
    "X_test = df_test.copy()"
   ]
  },
  {
   "cell_type": "code",
   "execution_count": null,
   "metadata": {},
   "outputs": [],
   "source": [
    "# 7. Instantiate model\n",
    "lm_model = LinearRegression(normalize=True)"
   ]
  },
  {
   "cell_type": "code",
   "execution_count": null,
   "metadata": {},
   "outputs": [],
   "source": [
    "# 8. Fit to model\n",
    "lm_model.fit(X_train, y_train)"
   ]
  },
  {
   "cell_type": "markdown",
   "metadata": {},
   "source": [
    "# Results"
   ]
  },
  {
   "cell_type": "code",
   "execution_count": null,
   "metadata": {},
   "outputs": [],
   "source": [
    "# 9. Predict using validation set\n",
    "y_val_preds = lm_model.predict(X_val)"
   ]
  },
  {
   "cell_type": "code",
   "execution_count": null,
   "metadata": {},
   "outputs": [],
   "source": [
    "# 10. Score model predictions\n",
    "score = roc_auc_score(y_val, y_val_preds) # Suggested Kaggle metric"
   ]
  },
  {
   "cell_type": "code",
   "execution_count": null,
   "metadata": {},
   "outputs": [],
   "source": [
    "# 11. Predict on unknown test data\n",
    "y_test_preds = lm_model.predict(X_test)"
   ]
  },
  {
   "cell_type": "code",
   "execution_count": null,
   "metadata": {},
   "outputs": [],
   "source": [
    "score"
   ]
  },
  {
   "cell_type": "markdown",
   "metadata": {},
   "source": [
    "#### The final scores:\n",
    "<p>Method 1: score = 0.83</p>\n",
    "<p>Method 2: score = 0.84</p>"
   ]
  },
  {
   "cell_type": "code",
   "execution_count": null,
   "metadata": {},
   "outputs": [],
   "source": []
  }
 ],
 "metadata": {
  "kernelspec": {
   "display_name": "Python 3",
   "language": "python",
   "name": "python3"
  },
  "language_info": {
   "codemirror_mode": {
    "name": "ipython",
    "version": 3
   },
   "file_extension": ".py",
   "mimetype": "text/x-python",
   "name": "python",
   "nbconvert_exporter": "python",
   "pygments_lexer": "ipython3",
   "version": "3.8.3"
  }
 },
 "nbformat": 4,
 "nbformat_minor": 4
}
